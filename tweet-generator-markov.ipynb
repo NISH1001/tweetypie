{
 "cells": [
  {
   "cell_type": "code",
   "execution_count": 1,
   "metadata": {},
   "outputs": [],
   "source": [
    "import pandas as pd\n",
    "import numpy as np\n",
    "import matplotlib.pyplot as plt\n",
    "import random\n",
    "\n",
    "%matplotlib inline"
   ]
  },
  {
   "cell_type": "markdown",
   "metadata": {},
   "source": [
    "# Markov Chain\n",
    "[Markov Chain](https://en.wikipedia.org/wiki/Markov_chain) is a model that describe a sequence of event within a system. \n",
    "Normally, in real life, current event is higly influenced by what had occured in the past.  \n",
    "However, markov chain is simple. The occurence of current event depends on only the previous event.\n",
    "```\n",
    "Pr( Xn+1 = x | X1 = x1, X2 = x2, …, Xn = xn) = Pr( Xn+1 = x | Xn = xn)\n",
    "```"
   ]
  },
  {
   "cell_type": "markdown",
   "metadata": {},
   "source": [
    "# Text Generation Using Markov Chain\n",
    "Here, we are considering the **event** of text generation and that event is described by the occurences of \n",
    "words/tokens in the text itself. So, a sequence of words give rise to next words.  \n",
    "**For example**  \n",
    "I am -> I am a programmer  \n",
    "I am -> I am nostalgic  \n",
    "<br/>\n",
    "The occurence of next word in the sequence solely depends on the probability. So, the process is vaguely as:\n",
    "- get textual data\n",
    "- preprocess text\n",
    "- count occurence of pairs {for example count of (i, am), (i, love), ...}\n",
    "- create probabilities of occurence of next word given current word (this is done by the count value in above step)\n",
    "- for new sequence of words, go on computing probabilities and get next probable word"
   ]
  },
  {
   "cell_type": "markdown",
   "metadata": {},
   "source": [
    "## Load Data"
   ]
  },
  {
   "cell_type": "code",
   "execution_count": 2,
   "metadata": {},
   "outputs": [],
   "source": [
    "tweetcsv = \"data/tweets/clean.csv\""
   ]
  },
  {
   "cell_type": "code",
   "execution_count": 3,
   "metadata": {},
   "outputs": [],
   "source": [
    "df = pd.read_csv(tweetcsv)"
   ]
  },
  {
   "cell_type": "code",
   "execution_count": 4,
   "metadata": {},
   "outputs": [],
   "source": [
    "df['created_at'] = pd.to_datetime(df['created_at'])"
   ]
  },
  {
   "cell_type": "code",
   "execution_count": 5,
   "metadata": {},
   "outputs": [
    {
     "data": {
      "text/html": [
       "<div>\n",
       "<style scoped>\n",
       "    .dataframe tbody tr th:only-of-type {\n",
       "        vertical-align: middle;\n",
       "    }\n",
       "\n",
       "    .dataframe tbody tr th {\n",
       "        vertical-align: top;\n",
       "    }\n",
       "\n",
       "    .dataframe thead th {\n",
       "        text-align: right;\n",
       "    }\n",
       "</style>\n",
       "<table border=\"1\" class=\"dataframe\">\n",
       "  <thead>\n",
       "    <tr style=\"text-align: right;\">\n",
       "      <th></th>\n",
       "      <th>created_at</th>\n",
       "      <th>text</th>\n",
       "    </tr>\n",
       "  </thead>\n",
       "  <tbody>\n",
       "    <tr>\n",
       "      <th>0</th>\n",
       "      <td>2014-06-07 04:58:36</td>\n",
       "      <td>what pride therein lied the salvated victim of...</td>\n",
       "    </tr>\n",
       "    <tr>\n",
       "      <th>1</th>\n",
       "      <td>2014-06-02 15:59:11</td>\n",
       "      <td>game of life: simple yet complex</td>\n",
       "    </tr>\n",
       "    <tr>\n",
       "      <th>2</th>\n",
       "      <td>2014-06-01 16:38:18</td>\n",
       "      <td>well well &lt;SENTENCE&gt; who do we have here &lt;SENT...</td>\n",
       "    </tr>\n",
       "    <tr>\n",
       "      <th>3</th>\n",
       "      <td>2014-06-01 16:31:18</td>\n",
       "      <td>paradox indeed &lt;SENTENCE&gt; &lt;EMOTICON&gt;</td>\n",
       "    </tr>\n",
       "    <tr>\n",
       "      <th>4</th>\n",
       "      <td>2014-06-01 12:49:22</td>\n",
       "      <td>i exist &lt;SENTENCE&gt; therefore i may not exist</td>\n",
       "    </tr>\n",
       "  </tbody>\n",
       "</table>\n",
       "</div>"
      ],
      "text/plain": [
       "           created_at                                               text\n",
       "0 2014-06-07 04:58:36  what pride therein lied the salvated victim of...\n",
       "1 2014-06-02 15:59:11                   game of life: simple yet complex\n",
       "2 2014-06-01 16:38:18  well well <SENTENCE> who do we have here <SENT...\n",
       "3 2014-06-01 16:31:18               paradox indeed <SENTENCE> <EMOTICON>\n",
       "4 2014-06-01 12:49:22       i exist <SENTENCE> therefore i may not exist"
      ]
     },
     "execution_count": 5,
     "metadata": {},
     "output_type": "execute_result"
    }
   ],
   "source": [
    "df.head()"
   ]
  },
  {
   "cell_type": "code",
   "execution_count": 6,
   "metadata": {},
   "outputs": [
    {
     "data": {
      "text/plain": [
       "(created_at      0\n",
       " text          297\n",
       " dtype: int64, (13422, 2))"
      ]
     },
     "execution_count": 6,
     "metadata": {},
     "output_type": "execute_result"
    }
   ],
   "source": [
    "# check nulls\n",
    "df.isnull().sum(), df.shape"
   ]
  },
  {
   "cell_type": "code",
   "execution_count": 7,
   "metadata": {},
   "outputs": [],
   "source": [
    "df = df.dropna()"
   ]
  },
  {
   "cell_type": "code",
   "execution_count": 8,
   "metadata": {},
   "outputs": [
    {
     "data": {
      "text/plain": [
       "(created_at    0\n",
       " text          0\n",
       " dtype: int64, (13125, 2))"
      ]
     },
     "execution_count": 8,
     "metadata": {},
     "output_type": "execute_result"
    }
   ],
   "source": [
    "# check nulls\n",
    "df.isnull().sum(), df.shape"
   ]
  },
  {
   "cell_type": "markdown",
   "metadata": {},
   "source": [
    "## Sort by Time (earliest to latest)"
   ]
  },
  {
   "cell_type": "code",
   "execution_count": 9,
   "metadata": {},
   "outputs": [],
   "source": [
    "df = df.sort_values(by='created_at')"
   ]
  },
  {
   "cell_type": "code",
   "execution_count": 10,
   "metadata": {},
   "outputs": [
    {
     "data": {
      "text/html": [
       "<div>\n",
       "<style scoped>\n",
       "    .dataframe tbody tr th:only-of-type {\n",
       "        vertical-align: middle;\n",
       "    }\n",
       "\n",
       "    .dataframe tbody tr th {\n",
       "        vertical-align: top;\n",
       "    }\n",
       "\n",
       "    .dataframe thead th {\n",
       "        text-align: right;\n",
       "    }\n",
       "</style>\n",
       "<table border=\"1\" class=\"dataframe\">\n",
       "  <thead>\n",
       "    <tr style=\"text-align: right;\">\n",
       "      <th></th>\n",
       "      <th>created_at</th>\n",
       "      <th>text</th>\n",
       "    </tr>\n",
       "  </thead>\n",
       "  <tbody>\n",
       "    <tr>\n",
       "      <th>4</th>\n",
       "      <td>2014-06-01 12:49:22</td>\n",
       "      <td>i exist &lt;SENTENCE&gt; therefore i may not exist</td>\n",
       "    </tr>\n",
       "    <tr>\n",
       "      <th>3</th>\n",
       "      <td>2014-06-01 16:31:18</td>\n",
       "      <td>paradox indeed &lt;SENTENCE&gt; &lt;EMOTICON&gt;</td>\n",
       "    </tr>\n",
       "    <tr>\n",
       "      <th>2</th>\n",
       "      <td>2014-06-01 16:38:18</td>\n",
       "      <td>well well &lt;SENTENCE&gt; who do we have here &lt;SENT...</td>\n",
       "    </tr>\n",
       "    <tr>\n",
       "      <th>1</th>\n",
       "      <td>2014-06-02 15:59:11</td>\n",
       "      <td>game of life: simple yet complex</td>\n",
       "    </tr>\n",
       "    <tr>\n",
       "      <th>0</th>\n",
       "      <td>2014-06-07 04:58:36</td>\n",
       "      <td>what pride therein lied the salvated victim of...</td>\n",
       "    </tr>\n",
       "  </tbody>\n",
       "</table>\n",
       "</div>"
      ],
      "text/plain": [
       "           created_at                                               text\n",
       "4 2014-06-01 12:49:22       i exist <SENTENCE> therefore i may not exist\n",
       "3 2014-06-01 16:31:18               paradox indeed <SENTENCE> <EMOTICON>\n",
       "2 2014-06-01 16:38:18  well well <SENTENCE> who do we have here <SENT...\n",
       "1 2014-06-02 15:59:11                   game of life: simple yet complex\n",
       "0 2014-06-07 04:58:36  what pride therein lied the salvated victim of..."
      ]
     },
     "execution_count": 10,
     "metadata": {},
     "output_type": "execute_result"
    }
   ],
   "source": [
    "df.head()"
   ]
  },
  {
   "cell_type": "markdown",
   "metadata": {},
   "source": [
    "## Load Text"
   ]
  },
  {
   "cell_type": "code",
   "execution_count": 11,
   "metadata": {},
   "outputs": [],
   "source": [
    "text = \"\\n\".join(df['text'].values.tolist()).strip()"
   ]
  },
  {
   "cell_type": "code",
   "execution_count": 12,
   "metadata": {},
   "outputs": [
    {
     "data": {
      "text/plain": [
       "'i exist <SENTENCE> therefore i may not exist\\nparadox indeed <SENTENCE> <EMOTICON>\\nwell well <SENTENC'"
      ]
     },
     "execution_count": 12,
     "metadata": {},
     "output_type": "execute_result"
    }
   ],
   "source": [
    "text[:100]"
   ]
  },
  {
   "cell_type": "code",
   "execution_count": 13,
   "metadata": {},
   "outputs": [],
   "source": [
    "# We have already done preprocessing.\n",
    "# clean.csv is already a cleaned data"
   ]
  },
  {
   "cell_type": "markdown",
   "metadata": {},
   "source": [
    "## Create Pairs\n",
    "Creat word pairs like (w1, w2), (w1, w3), (w4, w9),...."
   ]
  },
  {
   "cell_type": "code",
   "execution_count": 14,
   "metadata": {},
   "outputs": [],
   "source": [
    "def create_pairs(text):\n",
    "    tokens = text.split()\n",
    "    return list(zip(tokens, tokens[1:]))"
   ]
  },
  {
   "cell_type": "code",
   "execution_count": 15,
   "metadata": {},
   "outputs": [
    {
     "data": {
      "text/plain": [
       "[('i', 'exist'),\n",
       " ('exist', '<SENTENCE>'),\n",
       " ('<SENTENCE>', 'therefore'),\n",
       " ('therefore', 'i'),\n",
       " ('i', 'may')]"
      ]
     },
     "execution_count": 15,
     "metadata": {},
     "output_type": "execute_result"
    }
   ],
   "source": [
    "pairs = create_pairs(text)\n",
    "pairs[:5]"
   ]
  },
  {
   "cell_type": "markdown",
   "metadata": {},
   "source": [
    "# Trie Data Structure\n",
    "\n",
    "Trie is an efficient data structure created from hashmap/dictionary where each node points to the next node until we reach some kind of leaf. In our case, leaf means the numerical value for word pairs.\n",
    "So, we keep on traversing the trie until hitting a numerical value.\n",
    "Here, we just keep on increasing the count of word pairs for next word if the next word follows current word.\n",
    "\n",
    "Reference:\n",
    "- https://en.wikipedia.org/wiki/Trie\n",
    "\n"
   ]
  },
  {
   "cell_type": "code",
   "execution_count": 16,
   "metadata": {},
   "outputs": [],
   "source": [
    "def build_trie(pairs):\n",
    "    trie = {}\n",
    "    for pair in pairs:\n",
    "        a, b = pair\n",
    "        if a not in trie:\n",
    "            trie[a] = {}\n",
    "        if b not in trie[a]:\n",
    "            trie[a][b] = 1\n",
    "        else:\n",
    "            trie[a][b] += 1\n",
    "    return trie"
   ]
  },
  {
   "cell_type": "code",
   "execution_count": 17,
   "metadata": {},
   "outputs": [],
   "source": [
    "trie = build_trie(pairs)"
   ]
  },
  {
   "cell_type": "markdown",
   "metadata": {},
   "source": [
    "\n",
    "## Build Probabilities\n",
    "\n",
    "Since trie stores the count of (current word, next word), we normalize the frequency to get the probability."
   ]
  },
  {
   "cell_type": "code",
   "execution_count": 18,
   "metadata": {},
   "outputs": [],
   "source": [
    "def build_probabilities(trie):\n",
    "    for word, following in trie.items():\n",
    "        total = sum(following.values())\n",
    "        for key in following:\n",
    "            following[key] /= total\n",
    "    return trie"
   ]
  },
  {
   "cell_type": "code",
   "execution_count": 19,
   "metadata": {},
   "outputs": [],
   "source": [
    "trie = build_probabilities(trie)"
   ]
  },
  {
   "cell_type": "markdown",
   "metadata": {},
   "source": [
    "# Generate Tweet"
   ]
  },
  {
   "cell_type": "markdown",
   "metadata": {},
   "source": [
    "## Version 1\n",
    "\n",
    "Here, we are going to introduce some small randomness. This is one way to introduce random factor into probabilities.\n",
    "In this technique, we are simply going to count probabilities of transition word and check the total probability to some random factor."
   ]
  },
  {
   "cell_type": "code",
   "execution_count": 20,
   "metadata": {},
   "outputs": [],
   "source": [
    "def generate1(trie, initial_word, max_len=5, verbose=False):\n",
    "    res = []\n",
    "    word = initial_word\n",
    "    while len(res) < max_len:\n",
    "        if word not in trie:\n",
    "            break\n",
    "        transitions = trie[word]\n",
    "        if verbose:\n",
    "            print(\"Current word :: \", word)\n",
    "            print(\"Transitions :: \", transitions)\n",
    "        t = 0\n",
    "        for w in transitions:\n",
    "            p = transitions[w]\n",
    "            t += p\n",
    "            if t and (random.random() * t) < p:\n",
    "                next_word = w\n",
    "            if verbose:\n",
    "                print(w, p)\n",
    "        res.append(word)\n",
    "        word = next_word\n",
    "    return res"
   ]
  },
  {
   "cell_type": "code",
   "execution_count": 29,
   "metadata": {},
   "outputs": [],
   "source": [
    "generated_words = generate1(trie, initial_word='i', max_len=20, verbose=False)"
   ]
  },
  {
   "cell_type": "code",
   "execution_count": 30,
   "metadata": {},
   "outputs": [
    {
     "data": {
      "text/plain": [
       "'i am precrastinating <SENTENCE> <EMOTICON> <EMOTICON> then play tron game after ages ago total beauty of adhd perhaps <SENTENCE> freakingly'"
      ]
     },
     "execution_count": 30,
     "metadata": {},
     "output_type": "execute_result"
    }
   ],
   "source": [
    "' '.join(generated_words)"
   ]
  },
  {
   "cell_type": "markdown",
   "metadata": {},
   "source": [
    "## Version 2\n",
    "\n",
    "This is another way to introduce some randomness to the states. Here we are going to normalize probabilities of transition words with random number and get the next state with max probability (just like in version 1)"
   ]
  },
  {
   "cell_type": "code",
   "execution_count": 31,
   "metadata": {},
   "outputs": [],
   "source": [
    "def generate2(trie, initial_word, max_len=5, verbose=False):\n",
    "    res = []\n",
    "    word = initial_word\n",
    "    while len(res) < max_len:\n",
    "        if word not in trie:\n",
    "            break\n",
    "        transitions = trie[word].items()\n",
    "        transitions_randomized = {w : random.random() * p for w, p in transitions }\n",
    "        next_state = max(transitions_randomized.items(), key=lambda x : x[1])\n",
    "        if verbose:\n",
    "            print(\"Current word :: \", word)\n",
    "            print(\"Transitions :: \", transitions)\n",
    "            print(\"Next state :: \", next_state)\n",
    "        res.append(word)\n",
    "        word = next_state[0]\n",
    "    return res"
   ]
  },
  {
   "cell_type": "code",
   "execution_count": 36,
   "metadata": {},
   "outputs": [],
   "source": [
    "generated_words = generate2(trie, initial_word='we', max_len=20, verbose=False)"
   ]
  },
  {
   "cell_type": "code",
   "execution_count": 37,
   "metadata": {},
   "outputs": [
    {
     "data": {
      "text/plain": [
       "'we are the best thing that is a long time for me <SENTENCE> i have not know what you have'"
      ]
     },
     "execution_count": 37,
     "metadata": {},
     "output_type": "execute_result"
    }
   ],
   "source": [
    "' '.join(generated_words)"
   ]
  },
  {
   "cell_type": "code",
   "execution_count": null,
   "metadata": {},
   "outputs": [],
   "source": []
  }
 ],
 "metadata": {
  "kernelspec": {
   "display_name": "Python 3",
   "language": "python",
   "name": "python3"
  },
  "language_info": {
   "codemirror_mode": {
    "name": "ipython",
    "version": 3
   },
   "file_extension": ".py",
   "mimetype": "text/x-python",
   "name": "python",
   "nbconvert_exporter": "python",
   "pygments_lexer": "ipython3",
   "version": "3.6.6"
  }
 },
 "nbformat": 4,
 "nbformat_minor": 2
}
